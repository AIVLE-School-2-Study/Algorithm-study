{
 "cells": [
  {
   "cell_type": "markdown",
   "id": "3d086c92",
   "metadata": {},
   "source": [
    "2월 18일은 올해 CCC에 있어서 특별한 날이다.\n",
    "\n",
    "사용자로부터 정수인 월과 일을 입력받아 날짜가 2월 18일인지 전인지 후인지를 출력하는 프로그램이다.\n",
    "\n",
    "만약 날짜가 2월 18일 전이면, \"Before\"을 출력한다. 만약 날짜가 2월 18일 후면, \"After\"을 출력한다. 만약 2월 18일이라면 \"Special\" 을 출력한다."
   ]
  },
  {
   "cell_type": "code",
   "execution_count": 4,
   "id": "6ae30563",
   "metadata": {},
   "outputs": [
    {
     "name": "stdout",
     "output_type": "stream",
     "text": [
      "2\n",
      "18\n",
      "Special\n"
     ]
    }
   ],
   "source": [
    "month=int(input())\n",
    "day=int(input())\n",
    "\n",
    "if month<2:\n",
    "    print(\"Before\")\n",
    "elif month>2:\n",
    "    print(\"After\")\n",
    "else:\n",
    "    if day<18:\n",
    "        print(\"Before\")\n",
    "    elif day>18:\n",
    "        print(\"After\")\n",
    "    else:\n",
    "        print(\"Special\")"
   ]
  }
 ],
 "metadata": {
  "kernelspec": {
   "display_name": "Python 3",
   "language": "python",
   "name": "python3"
  },
  "language_info": {
   "codemirror_mode": {
    "name": "ipython",
    "version": 3
   },
   "file_extension": ".py",
   "mimetype": "text/x-python",
   "name": "python",
   "nbconvert_exporter": "python",
   "pygments_lexer": "ipython3",
   "version": "3.8.8"
  }
 },
 "nbformat": 4,
 "nbformat_minor": 5
}
