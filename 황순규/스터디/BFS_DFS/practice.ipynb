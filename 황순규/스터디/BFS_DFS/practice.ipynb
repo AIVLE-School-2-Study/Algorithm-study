{
 "cells": [
  {
   "cell_type": "code",
   "execution_count": 2,
   "metadata": {},
   "outputs": [],
   "source": [
    "graph = {\n",
    "    1: [2,5,9],\n",
    "    2: [3],\n",
    "    3: [4],\n",
    "    4: [],\n",
    "    5: [6,8],\n",
    "    6: [7],\n",
    "    7: [],\n",
    "    8: [],\n",
    "    9: [10],\n",
    "    10: []\n",
    "}"
   ]
  },
  {
   "cell_type": "code",
   "execution_count": 2,
   "metadata": {},
   "outputs": [
    {
     "name": "stdout",
     "output_type": "stream",
     "text": [
      "recursive_dfs:  [1, 2, 3, 4, 5, 6, 7, 8, 9, 10]\n",
      "iterative_dfs:  [1, 9, 10, 5, 8, 6, 7, 2, 3, 4]\n"
     ]
    }
   ],
   "source": [
    "def recursive_dfs(v, visited = []):\n",
    "    visited.append(v) # 시작 정점 방문\n",
    "    for w in graph[v]:\n",
    "        if not w in visited: # 방문 하지 않았으면\n",
    "            visited = recursive_dfs(w, visited)\n",
    "    return visited\n",
    "\n",
    "def iterative_dfs(start_v):\n",
    "    visited = []\n",
    "    stack = [start_v]\n",
    "    while stack:\n",
    "        v = stack.pop()\n",
    "        if v not in visited:\n",
    "            visited.append(v)\n",
    "            for w in graph[v]:\n",
    "                stack.append(w)\n",
    "    return visited\n",
    "\n",
    "print(\"recursive_dfs: \", recursive_dfs(1))\n",
    "print(\"iterative_dfs: \", iterative_dfs(1))"
   ]
  },
  {
   "cell_type": "code",
   "execution_count": 3,
   "metadata": {},
   "outputs": [
    {
     "name": "stdout",
     "output_type": "stream",
     "text": [
      "bfs:  [1, 2, 5, 9, 3, 6, 8, 10, 4, 7]\n"
     ]
    }
   ],
   "source": [
    "def bfs(start_v):\n",
    "    visited = [start_v]\n",
    "    queue = [start_v]\n",
    "    while queue:\n",
    "        v = queue.pop(0)\n",
    "        for w in graph[v]:\n",
    "            if w not in visited:\n",
    "                visited.append(w)\n",
    "                queue.append(w)\n",
    "    return visited\n",
    "\n",
    "print(\"bfs: \", bfs(1))"
   ]
  },
  {
   "cell_type": "code",
   "execution_count": 7,
   "metadata": {},
   "outputs": [
    {
     "name": "stdout",
     "output_type": "stream",
     "text": [
      "[1, 2, 3, 4, 5, 6, 7, 8, 9, 10]\n"
     ]
    }
   ],
   "source": [
    "def DFS(v, visited = []):\n",
    "    visited.append(v)\n",
    "    for i in graph[v]:\n",
    "        if i not in visited:\n",
    "            visited = DFS(i, visited)\n",
    "    return visited\n",
    "\n",
    "print(DFS(1))"
   ]
  },
  {
   "cell_type": "code",
   "execution_count": 14,
   "metadata": {},
   "outputs": [
    {
     "name": "stdout",
     "output_type": "stream",
     "text": [
      "[1, 2, 5, 9, 3, 6, 8, 10, 4, 7]\n"
     ]
    }
   ],
   "source": [
    "from collections import deque\n",
    "\n",
    "def BFS(v):\n",
    "    visited = [v]\n",
    "    deq = deque([v])\n",
    "    \n",
    "    while deq:\n",
    "        i = deq.popleft()\n",
    "        for w in graph[i]:\n",
    "            if w not in visited:\n",
    "                deq.append(w)\n",
    "                visited.append(w)\n",
    "    return visited\n",
    "\n",
    "print(BFS(1))        "
   ]
  },
  {
   "cell_type": "code",
   "execution_count": 12,
   "metadata": {},
   "outputs": [],
   "source": [
    "from collections import deque\n",
    "\n"
   ]
  },
  {
   "cell_type": "code",
   "execution_count": 13,
   "metadata": {},
   "outputs": [
    {
     "data": {
      "text/plain": [
       "deque([1])"
      ]
     },
     "execution_count": 13,
     "metadata": {},
     "output_type": "execute_result"
    }
   ],
   "source": []
  },
  {
   "cell_type": "code",
   "execution_count": null,
   "metadata": {},
   "outputs": [],
   "source": []
  }
 ],
 "metadata": {
  "kernelspec": {
   "display_name": "Python 3.9.13 64-bit",
   "language": "python",
   "name": "python3"
  },
  "language_info": {
   "codemirror_mode": {
    "name": "ipython",
    "version": 3
   },
   "file_extension": ".py",
   "mimetype": "text/x-python",
   "name": "python",
   "nbconvert_exporter": "python",
   "pygments_lexer": "ipython3",
   "version": "3.9.13"
  },
  "orig_nbformat": 4,
  "vscode": {
   "interpreter": {
    "hash": "cf92aa13fedf815d5c8dd192b8d835913fde3e8bc926b2a0ad6cc74ef2ba3ca2"
   }
  }
 },
 "nbformat": 4,
 "nbformat_minor": 2
}
